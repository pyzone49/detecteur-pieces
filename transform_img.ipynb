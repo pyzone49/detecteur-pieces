{
 "cells": [
  {
   "cell_type": "code",
   "execution_count": 1,
   "metadata": {},
   "outputs": [
    {
     "name": "stdout",
     "output_type": "stream",
     "text": [
      "Requirement already satisfied: pyheif in /Library/Frameworks/Python.framework/Versions/3.11/lib/python3.11/site-packages (0.7.1)\n",
      "Requirement already satisfied: cffi>=1.0.0 in /Library/Frameworks/Python.framework/Versions/3.11/lib/python3.11/site-packages (from pyheif) (1.16.0)\n",
      "Requirement already satisfied: pycparser in /Library/Frameworks/Python.framework/Versions/3.11/lib/python3.11/site-packages (from cffi>=1.0.0->pyheif) (2.21)\n"
     ]
    }
   ],
   "source": [
    "!pip install pyheif"
   ]
  },
  {
   "cell_type": "code",
   "execution_count": null,
   "metadata": {},
   "outputs": [],
   "source": [
    "\n",
    "import os\n",
    "import cv2,pyheif\n",
    "def convert_images_to_jpeg(folder_path, output_folder_path):\n",
    "\n",
    "\n",
    "  os.makedirs(output_folder_path, exist_ok=True)\n",
    "\n",
    "  for filename in os.listdir(folder_path):\n",
    "\n",
    "    image_path = os.path.join(folder_path, filename)\n",
    "\n",
    "\n",
    "    if os.path.isfile(image_path) and filename.lower().endswith(( '.jpg', '.jpeg')):\n",
    "      img=cv2.imread(image_path)\n",
    "      cv2.imwrite( os.path.join(output_folder_path,filename),img)\n",
    "    else:\n",
    "\n",
    "        heif_file = pyheif.read(image_path)\n",
    "        img = Image.frombytes(heif_file.mode, heif_file.size, heif_file.data)\n",
    "\n",
    "\n",
    "\n",
    "\n",
    "        base_filename = filename.split(\".\")[0]\n",
    "\n",
    "\n",
    "        output_filename = os.path.join(output_folder_path, base_filename + '.jpg')\n",
    "\n",
    "\n",
    "        img.save(output_filename)\n",
    "        print(f\"Converted: {filename} -> {output_filename}\")\n",
    "\n",
    "  print(\"Conversion complete!\")"
   ]
  },
  {
   "cell_type": "markdown",
   "metadata": {},
   "source": [
    "# Specify folder paths\n"
   ]
  },
  {
   "cell_type": "code",
   "execution_count": 2,
   "metadata": {},
   "outputs": [],
   "source": [
    "folder_path = '/content/projet 2023 2024 - data'\n",
    "output_folder_path = 'jpeg_images'"
   ]
  },
  {
   "cell_type": "markdown",
   "metadata": {},
   "source": [
    "# Convert images\n"
   ]
  },
  {
   "cell_type": "code",
   "execution_count": null,
   "metadata": {},
   "outputs": [],
   "source": [
    "convert_images_to_jpeg(folder_path, output_folder_path)"
   ]
  }
 ],
 "metadata": {
  "kernelspec": {
   "display_name": "Python (myenv)",
   "language": "python",
   "name": "myenv"
  },
  "language_info": {
   "codemirror_mode": {
    "name": "ipython",
    "version": 3
   },
   "file_extension": ".py",
   "mimetype": "text/x-python",
   "name": "python",
   "nbconvert_exporter": "python",
   "pygments_lexer": "ipython3",
   "version": "3.11.4"
  }
 },
 "nbformat": 4,
 "nbformat_minor": 2
}
